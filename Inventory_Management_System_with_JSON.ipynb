{
 "cells": [
  {
   "cell_type": "code",
   "execution_count": 2,
   "id": "2d683c6e",
   "metadata": {},
   "outputs": [],
   "source": [
    "import json\n",
    "import time"
   ]
  },
  {
   "cell_type": "code",
   "execution_count": null,
   "id": "89e12449",
   "metadata": {},
   "outputs": [],
   "source": []
  },
  {
   "cell_type": "code",
   "execution_count": null,
   "id": "fc714f85",
   "metadata": {},
   "outputs": [],
   "source": []
  },
  {
   "cell_type": "code",
   "execution_count": null,
   "id": "84e0c660",
   "metadata": {},
   "outputs": [],
   "source": []
  },
  {
   "cell_type": "code",
   "execution_count": 43,
   "id": "996fe33f",
   "metadata": {},
   "outputs": [],
   "source": [
    "#if u ask for id not present in dict it gives key value error"
   ]
  },
  {
   "cell_type": "code",
   "execution_count": 4,
   "id": "148d9e19",
   "metadata": {},
   "outputs": [
    {
     "name": "stdout",
     "output_type": "stream",
     "text": [
      "-----------------MENU-----------------\n",
      "\n",
      "1001 : 5 Star | 10 | 130\n",
      "1002 : Dairy Milk | 40 | 100\n",
      "1003 : Kit Kat | 20 | 300\n",
      "1004 : Kinder Joy | 50 | 150\n",
      "1005 : Perk | 5 | 864\n",
      "-----------------The End-----------------\n",
      "\n",
      "Please Enter your name     :shiva\n",
      "Please Enter your mail id :shiva@gmail.com\n",
      "Please Enter your Phone Number  :78945+123\n",
      "Enter Product Id       : 1005\n",
      "Enter product quantity : 4\n",
      "-----------------------------------------\n",
      "                   BILL                  \n",
      "Name                  : Perk\n",
      "Price                 : ₹ 5 /-Each\n",
      "Quantity              : 4\n",
      "-----------------------------------------\n",
      "Total Billing         : ₹ 20 /-\n",
      "-----------------------------------------\n",
      "-----------------------------------------\n",
      "Thank you,Hope you will visit again\n",
      "-----------------------------------------\n"
     ]
    }
   ],
   "source": [
    "#importing Libraries required\n",
    "import json\n",
    "import time\n",
    "\n",
    "#loading the Inventory\n",
    "fd = open('Record.json','r')\n",
    "js = fd.read()\n",
    "fd.close()\n",
    "\n",
    "#Converting the records in string format to json/Dictionary\n",
    "record = json.loads(js)\n",
    "\n",
    "#Ensuring that sales of the previous transaction doesn't appear in this transction if nothing was bought\n",
    "sales = ''\n",
    "\n",
    "#Displaying the Menu\n",
    "print('-----------------MENU-----------------\\n')\n",
    "for key in record.keys():\n",
    "    print(key,\":\",record[key]['Name'],'|',record[key][\"Price\"],'|',record[key]['Quantity'])\n",
    "print('-----------------The End-----------------\\n')\n",
    "\n",
    "#Taking User Input\n",
    "ui_name = input(\"Please Enter your name     :\")\n",
    "ui_mail_id =  input(\"Please Enter your mail id :\")\n",
    "ui_phone = input(\"Please Enter your Phone Number  :\")\n",
    "ui_pro_id = str(input(\"Enter Product Id       : \"))\n",
    "ui_pro_qn = int(input(\"Enter product quantity : \"))\n",
    "\n",
    "#If we are having enough Quantity,this condition applies\n",
    "if record[ui_pro_id]['Quantity']>=ui_pro_qn:\n",
    "    record[ui_pro_id]['Quantity'] -= ui_pro_qn\n",
    "    print('-----------------------------------------')\n",
    "    print('                   BILL                  ')\n",
    "    print('Name                  :',record[ui_pro_id][\"Name\"])\n",
    "    print('Price                 :','₹',record[ui_pro_id]['Price'],'/-Each')\n",
    "    print('Quantity              :',ui_pro_qn)\n",
    "    print('-----------------------------------------')\n",
    "    print(\"Total Billing\",\"        :\",'₹',((record[ui_pro_id]['Price'])*ui_pro_qn),'/-')\n",
    "    print('-----------------------------------------')\n",
    "    sales = ui_name + ',' + ui_mail_id + ',' + ui_phone + ',' + ui_pro_id + ',' + str(ui_pro_qn) + ',' + str(record[ui_pro_id]['Price']) + ',' + str(record[ui_pro_id]['Price']*ui_pro_qn) + ',' + time.ctime() + '\\n'\n",
    "    fd = open('Sales.txt','a')\n",
    "    fd.write(sales)\n",
    "    fd.close()\n",
    "#if not,this case applies\n",
    "else:\n",
    "    print(\"We are sorry to say that we don't have enough Quantity of\",record[ui_pro_id][\"Name\"])\n",
    "    print(\"We do have\",record[ui_pro_id]['Quantity'],'available')\n",
    "    ui_choice = input(\"Please enter Y/y if u want to buy the left over Quantity\")\n",
    "    \n",
    "    #if user chooses y/Y\n",
    "    if ui_choice=='Y' or ui_choice=='y':\n",
    "        \n",
    "        #Storing the info in sales variable\n",
    "        sales = ui_name + ',' + ui_mail_id + ',' + ui_phone + ',' + ui_pro_id + ',' + str(record[ui_pro_id]['Quantity']) + ',' + str(record[ui_pro_id]['Price']) + ',' + str(record[ui_pro_id]['Price']*record[ui_pro_id]['Quantity']) + ',' + time.ctime()\n",
    "        #Updating the Sales.txt\n",
    "        fd = open('Sales.txt','a')\n",
    "        fd.write(sales)\n",
    "        fd.close()\n",
    "        #Generating the bill\n",
    "        print('-----------------------------------------')\n",
    "        print('                   BILL                  ')\n",
    "        print('Name                  :',record[ui_pro_id][\"Name\"])\n",
    "        print('Price                 :','₹',record[ui_pro_id]['Price'],'/-Each')\n",
    "        print('Quantity              :',record[ui_pro_id]['Quantity'])\n",
    "        print('-----------------------------------------')\n",
    "        print(\"Total Billing\",\"        :\",'₹',((record[ui_pro_id]['Price'])*record[ui_pro_id]['Quantity']),'/-')\n",
    "        print('-----------------------------------------')\n",
    "        record[ui_pro_id]['Quantity'] = 0\n",
    "    \n",
    "    #If user press anything other than Y/y\n",
    "    else:\n",
    "        #Displaying Bill\n",
    "        print('-----------------------------------------')\n",
    "        print('                   BILL                  ')\n",
    "        print('Name                  :',record[ui_pro_id][\"Name\"])\n",
    "        print('Price                 :','₹',record[ui_pro_id]['Price'],'/-Each')\n",
    "        print('Quantity              :',0)\n",
    "        print('-----------------------------------------')\n",
    "        print(\"Total Billing\",\"        :\",'₹',0,'/-')\n",
    "        print('-----------------------------------------')\n",
    "        print('Thanks,Please visit next time')\n",
    "\n",
    "#Converting the json into String so as to write\n",
    "js = json.dumps(record)\n",
    "#Updating Records\n",
    "fd = open('Record.json','w')\n",
    "fd.write(js)\n",
    "fd.close()\n",
    "print('-----------------------------------------')\n",
    "print('Thank you,Hope you will visit again')\n",
    "print('-----------------------------------------')"
   ]
  },
  {
   "cell_type": "code",
   "execution_count": 4,
   "id": "1e9f1145",
   "metadata": {},
   "outputs": [
    {
     "data": {
      "text/plain": [
       "{1001: {'Name': '5 Star', 'Price': 10, 'Quantity': 200},\n",
       " 1002: {'Name': 'Dairy Milk', 'Price': 40, 'Quantity': 100},\n",
       " 1003: {'Name': 'Kit Kat', 'Price': 20, 'Quantity': 300},\n",
       " 1004: {'Name': 'Kinder Joy', 'Price': 50, 'Quantity': 147},\n",
       " 1005: {'Name': 'Perk', 'Price': 5, 'Quantity': 1000}}"
      ]
     },
     "execution_count": 4,
     "metadata": {},
     "output_type": "execute_result"
    }
   ],
   "source": [
    "record\n"
   ]
  },
  {
   "cell_type": "code",
   "execution_count": 5,
   "id": "f448b180",
   "metadata": {},
   "outputs": [
    {
     "data": {
      "text/plain": [
       "'{\"1001\": {\"Name\": \"5 Star\", \"Price\": 10, \"Quantity\": 200}, \"1002\": {\"Name\": \"Dairy Milk\", \"Price\": 40, \"Quantity\": 100}, \"1003\": {\"Name\": \"Kit Kat\", \"Price\": 20, \"Quantity\": 300}, \"1004\": {\"Name\": \"Kinder Joy\", \"Price\": 50, \"Quantity\": 147}, \"1005\": {\"Name\": \"Perk\", \"Price\": 5, \"Quantity\": 1000}}'"
      ]
     },
     "execution_count": 5,
     "metadata": {},
     "output_type": "execute_result"
    }
   ],
   "source": [
    "js  = json.dumps(record)\n",
    "js"
   ]
  },
  {
   "cell_type": "code",
   "execution_count": 58,
   "id": "b2d8140e",
   "metadata": {},
   "outputs": [],
   "source": [
    "fd = open('Record.json','w')\n",
    "fd.write(js)\n",
    "fd.close()\n"
   ]
  },
  {
   "cell_type": "code",
   "execution_count": 6,
   "id": "7c8ec712",
   "metadata": {},
   "outputs": [],
   "source": [
    "fd = open('Record.json','r')\n",
    "js = fd.read()\n",
    "fd.close()"
   ]
  },
  {
   "cell_type": "code",
   "execution_count": 7,
   "id": "77654676",
   "metadata": {},
   "outputs": [
    {
     "data": {
      "text/plain": [
       "{'1001': {'Name': '5 Star', 'Price': 10, 'Quantity': 200},\n",
       " '1002': {'Name': 'Dairy Milk', 'Price': 40, 'Quantity': 100},\n",
       " '1003': {'Name': 'Kit Kat', 'Price': 20, 'Quantity': 300},\n",
       " '1004': {'Name': 'Kinder Joy', 'Price': 50, 'Quantity': 147},\n",
       " '1005': {'Name': 'Perk', 'Price': 5, 'Quantity': 1000}}"
      ]
     },
     "execution_count": 7,
     "metadata": {},
     "output_type": "execute_result"
    }
   ],
   "source": [
    "json.loads(js)"
   ]
  },
  {
   "cell_type": "code",
   "execution_count": 28,
   "id": "0b5d8f44",
   "metadata": {},
   "outputs": [],
   "source": [
    " sales = ui_name + ',' + ui_mail_id + ',' + ui_phone + ',' + ui_pro_id + ',' + str(ui_pro_qn) + ',' + str(record[ui_pro_id]['Price']) + ',' + str(record[ui_pro_id]['Price']*ui_pro_qn) + ',' + time.ctime()"
   ]
  },
  {
   "cell_type": "code",
   "execution_count": 24,
   "id": "b662377d",
   "metadata": {},
   "outputs": [],
   "source": [
    "import time"
   ]
  },
  {
   "cell_type": "code",
   "execution_count": 25,
   "id": "011a9955",
   "metadata": {},
   "outputs": [
    {
     "data": {
      "text/plain": [
       "'Fri Aug  4 18:54:27 2023'"
      ]
     },
     "execution_count": 25,
     "metadata": {},
     "output_type": "execute_result"
    }
   ],
   "source": [
    "time.ctime()"
   ]
  },
  {
   "cell_type": "code",
   "execution_count": 32,
   "id": "c69c83b8",
   "metadata": {},
   "outputs": [
    {
     "data": {
      "text/plain": [
       "'hari,hari@gmail.com,9515637711,1001,15,10,150,Fri Aug  4 19:03:11 2023'"
      ]
     },
     "execution_count": 32,
     "metadata": {},
     "output_type": "execute_result"
    }
   ],
   "source": [
    "sales"
   ]
  },
  {
   "cell_type": "code",
   "execution_count": 33,
   "id": "ab330224",
   "metadata": {},
   "outputs": [],
   "source": [
    "fd = open('Sales.txt','a')\n",
    "fd.write(sales)\n",
    "fd.close()"
   ]
  },
  {
   "cell_type": "code",
   "execution_count": null,
   "id": "660f883e",
   "metadata": {},
   "outputs": [],
   "source": []
  }
 ],
 "metadata": {
  "kernelspec": {
   "display_name": "Python 3 (ipykernel)",
   "language": "python",
   "name": "python3"
  },
  "language_info": {
   "codemirror_mode": {
    "name": "ipython",
    "version": 3
   },
   "file_extension": ".py",
   "mimetype": "text/x-python",
   "name": "python",
   "nbconvert_exporter": "python",
   "pygments_lexer": "ipython3",
   "version": "3.11.3"
  }
 },
 "nbformat": 4,
 "nbformat_minor": 5
}
